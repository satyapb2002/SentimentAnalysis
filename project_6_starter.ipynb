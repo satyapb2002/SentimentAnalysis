{
 "cells": [
  {
   "cell_type": "markdown",
   "metadata": {},
   "source": [
    "# Project 6: Analyzing Stock Sentiment from Twits\n",
    "## Instructions\n",
    "Each problem consists of a function to implement and instructions on how to implement the function.  The parts of the function that need to be implemented are marked with a `# TODO` comment.\n",
    "\n",
    "## Packages\n",
    "When you implement the functions, you'll only need to you use the packages you've used in the classroom, like [Pandas](https://pandas.pydata.org/) and [Numpy](http://www.numpy.org/). These packages will be imported for you. We recommend you don't add any import statements, otherwise the grader might not be able to run your code.\n",
    "\n",
    "### Load Packages"
   ]
  },
  {
   "cell_type": "code",
   "execution_count": 1,
   "metadata": {},
   "outputs": [],
   "source": [
    "import json\n",
    "import nltk\n",
    "import os\n",
    "import random\n",
    "import re\n",
    "import torch\n",
    "\n",
    "from torch import nn, optim\n",
    "import torch.nn.functional as F"
   ]
  },
  {
   "cell_type": "markdown",
   "metadata": {},
   "source": [
    "## Introduction\n",
    "When deciding the value of a company, it's important to follow the news. For example, a product recall or natural disaster in a company's product chain. You want to be able to turn this information into a signal. Currently, the best tool for the job is a Neural Network. \n",
    "\n",
    "For this project, you'll use posts from the social media site [StockTwits](https://en.wikipedia.org/wiki/StockTwits). The community on StockTwits is full of investors, traders, and entrepreneurs. Each message posted is called a Twit. This is similar to Twitter's version of a post, called a Tweet. You'll build a model around these twits that generate a sentiment score.\n",
    "\n",
    "We've collected a bunch of twits, then hand labeled the sentiment of each. To capture the degree of sentiment, we'll use a five-point scale: very negative, negative, neutral, positive, very positive. Each twit is labeled -2 to 2 in steps of 1, from very negative to very positive respectively. You'll build a sentiment analysis model that will learn to assign sentiment to twits on its own, using this labeled data.\n",
    "\n",
    "The first thing we should to do, is load the data.\n",
    "\n",
    "## Import Twits \n",
    "### Load Twits Data \n",
    "This JSON file contains a list of objects for each twit in the `'data'` field:\n",
    "\n",
    "```\n",
    "{'data':\n",
    "  {'message_body': 'Neutral twit body text here',\n",
    "   'sentiment': 0},\n",
    "  {'message_body': 'Happy twit body text here',\n",
    "   'sentiment': 1},\n",
    "   ...\n",
    "}\n",
    "```\n",
    "\n",
    "The fields represent the following:\n",
    "\n",
    "* `'message_body'`: The text of the twit.\n",
    "* `'sentiment'`: Sentiment score for the twit, ranges from -2 to 2 in steps of 1, with 0 being neutral.\n",
    "\n",
    "\n",
    "To see what the data look like by printing the first 10 twits from the list. "
   ]
  },
  {
   "cell_type": "code",
   "execution_count": 2,
   "metadata": {},
   "outputs": [
    {
     "name": "stdout",
     "output_type": "stream",
     "text": [
      "[{'message_body': '$FITB great buy at 26.00...ill wait', 'sentiment': 2, 'timestamp': '2018-07-01T00:00:09Z'}, {'message_body': '@StockTwits $MSFT', 'sentiment': 1, 'timestamp': '2018-07-01T00:00:42Z'}, {'message_body': '#STAAnalystAlert for $TDG : Jefferies Maintains with a rating of Hold setting target price at USD 350.00. Our own verdict is Buy  http://www.stocktargetadvisor.com/toprating', 'sentiment': 2, 'timestamp': '2018-07-01T00:01:24Z'}, {'message_body': '$AMD I heard there’s a guy who knows someone who thinks somebody knows something - on StockTwits.', 'sentiment': 1, 'timestamp': '2018-07-01T00:01:47Z'}, {'message_body': '$AMD reveal yourself!', 'sentiment': 0, 'timestamp': '2018-07-01T00:02:13Z'}, {'message_body': '$AAPL Why the drop? I warren Buffet taking out his position?', 'sentiment': 1, 'timestamp': '2018-07-01T00:03:10Z'}, {'message_body': '$BA bears have 1 reason on 06-29 to pay more attention https://dividendbot.com?s=BA', 'sentiment': -2, 'timestamp': '2018-07-01T00:04:09Z'}, {'message_body': '$BAC ok good we&#39;re not dropping in price over the weekend, lol', 'sentiment': 1, 'timestamp': '2018-07-01T00:04:17Z'}, {'message_body': '$AMAT - Daily Chart, we need to get back to above 50.', 'sentiment': 2, 'timestamp': '2018-07-01T00:08:01Z'}, {'message_body': '$GME 3% drop per week after spike... if no news in 3 months, back to 12s... if BO, then bingo... what is the odds?', 'sentiment': -2, 'timestamp': '2018-07-01T00:09:03Z'}]\n"
     ]
    }
   ],
   "source": [
    "with open(os.path.join('..', '..', 'data', 'project_6_stocktwits', 'twits.json'), 'r') as f:\n",
    "    twits = json.load(f)\n",
    "\n",
    "print(twits['data'][:10])"
   ]
  },
  {
   "cell_type": "markdown",
   "metadata": {},
   "source": [
    "### Length of Data\n",
    "Now let's look at the number of twits in dataset. Print the number of twits below."
   ]
  },
  {
   "cell_type": "code",
   "execution_count": 3,
   "metadata": {},
   "outputs": [
    {
     "name": "stdout",
     "output_type": "stream",
     "text": [
      "1548010\n"
     ]
    }
   ],
   "source": [
    "\"\"\"print out the number of twits\"\"\"\n",
    "\n",
    "# TODO Implement \n",
    "print(len(twits['data']))\n"
   ]
  },
  {
   "cell_type": "markdown",
   "metadata": {},
   "source": [
    "### Split Message Body and Sentiment Score"
   ]
  },
  {
   "cell_type": "code",
   "execution_count": 4,
   "metadata": {},
   "outputs": [],
   "source": [
    "messages = [twit['message_body'] for twit in twits['data']]\n",
    "# Since the sentiment scores are discrete, we'll scale the sentiments to 0 to 4 for use in our network\n",
    "sentiments = [twit['sentiment'] + 2 for twit in twits['data']]"
   ]
  },
  {
   "cell_type": "markdown",
   "metadata": {},
   "source": [
    "## Preprocessing the Data\n",
    "With our data in hand we need to preprocess our text. These twits are collected by filtering on ticker symbols where these are denoted with a leader $ symbol in the twit itself. For example,\n",
    "\n",
    "`{'message_body': 'RT @google Our annual look at the year in Google blogging (and beyond) http://t.co/sptHOAh8 $GOOG',\n",
    " 'sentiment': 0}`\n",
    "\n",
    "The ticker symbols don't provide information on the sentiment, and they are in every twit, so we should remove them. This twit also has the `@google` username, again not providing sentiment information, so we should also remove it. We also see a URL `http://t.co/sptHOAh8`. Let's remove these too.\n",
    "\n",
    "The easiest way to remove specific words or phrases is with regex using the `re` module. You can sub out specific patterns with a space:\n",
    "\n",
    "```python\n",
    "re.sub(pattern, ' ', text)\n",
    "```\n",
    "This will substitute a space with anywhere the pattern matches in the text. Later when we tokenize the text, we'll split appropriately on those spaces."
   ]
  },
  {
   "cell_type": "markdown",
   "metadata": {},
   "source": [
    "### Pre-Processing"
   ]
  },
  {
   "cell_type": "code",
   "execution_count": 5,
   "metadata": {},
   "outputs": [
    {
     "name": "stdout",
     "output_type": "stream",
     "text": [
      "[nltk_data] Downloading package wordnet to /root/nltk_data...\n",
      "[nltk_data]   Unzipping corpora/wordnet.zip.\n"
     ]
    }
   ],
   "source": [
    "nltk.download('wordnet')\n",
    "\n",
    "\n",
    "def preprocess(message):\n",
    "    \"\"\"\n",
    "    This function takes a string as input, then performs these operations: \n",
    "        - lowercase\n",
    "        - remove URLs\n",
    "        - remove ticker symbols \n",
    "        - removes punctuation\n",
    "        - tokenize by splitting the string on whitespace \n",
    "        - removes any single character tokens\n",
    "    \n",
    "    Parameters\n",
    "    ----------\n",
    "        message : The text message to be preprocessed.\n",
    "        \n",
    "    Returns\n",
    "    -------\n",
    "        tokens: The preprocessed text into tokens.\n",
    "    \"\"\" \n",
    "    #TODO: Implement \n",
    "    \n",
    "    # Lowercase the twit message\n",
    "    text = message.lower()\n",
    "    \n",
    "    # Replace URLs with a space in the message\n",
    "    text = re.sub(r'https?://[^\\s]+' , ' ', text)\n",
    "    \n",
    "    # Replace ticker symbols with a space. The ticker symbols are any stock symbol that starts with $.\n",
    "    text = re.sub(r'\\$[a-zA-Z0-9]*' , ' ', text)\n",
    "    \n",
    "    # Replace StockTwits usernames with a space. The usernames are any word that starts with @.\n",
    "    text = re.sub(r'@[a-zA-Z0-9]*' , ' ', text)\n",
    "\n",
    "    # Replace everything not a letter with a space\n",
    "    text = re.sub(r'[^a-z]' , ' ', text)\n",
    "    \n",
    "    # Tokenize by splitting the string on whitespace into a list of words\n",
    "    tokens = text.split()\n",
    "\n",
    "    # Lemmatize words using the WordNetLemmatizer. You can ignore any word that is not longer than one character.\n",
    "    wnl = nltk.stem.WordNetLemmatizer()\n",
    "    tokens = [wnl.lemmatize(w) for w in tokens if len(w) > 1]\n",
    "    \n",
    "    return tokens"
   ]
  },
  {
   "cell_type": "markdown",
   "metadata": {},
   "source": [
    "### Preprocess All the Twits \n",
    "Now we can preprocess each of the twits in our dataset. Apply the function `preprocess` to all the twit messages."
   ]
  },
  {
   "cell_type": "code",
   "execution_count": 6,
   "metadata": {},
   "outputs": [],
   "source": [
    "# TODO Implement\n",
    "\n",
    "tokenized = [preprocess(twit) for twit in messages]\n",
    "idx = [idx for idx, tokens in enumerate(tokenized) if len(tokens) >0]\n",
    "tokenized = [tokenized[i] for i in idx]\n",
    "sentiments =  [sentiments[i] for i in idx]"
   ]
  },
  {
   "cell_type": "markdown",
   "metadata": {},
   "source": [
    "### Bag of Words\n",
    "Now with all of our messages tokenized, we want to create a vocabulary and count up how often each word appears in our entire corpus. Use the [`Counter`](https://docs.python.org/3.1/library/collections.html#collections.Counter) function to count up all the tokens."
   ]
  },
  {
   "cell_type": "code",
   "execution_count": 7,
   "metadata": {},
   "outputs": [
    {
     "name": "stdout",
     "output_type": "stream",
     "text": [
      "[('the', 398911), ('to', 379518), ('is', 284906)]\n"
     ]
    }
   ],
   "source": [
    "from collections import Counter\n",
    "\n",
    "\n",
    "\"\"\"\n",
    "Create a vocabulary by using Bag of words\n",
    "\"\"\"\n",
    "\n",
    "# TODO: Implement \n",
    "temp = Counter()\n",
    "[temp.update(tokens) for tokens in tokenized]\n",
    "bow = temp\n",
    "print(bow.most_common(3))"
   ]
  },
  {
   "cell_type": "markdown",
   "metadata": {},
   "source": [
    "### Frequency of Words Appearing in Message\n",
    "With our vocabulary, now we'll remove some of the most common words such as 'the', 'and', 'it', etc. These words don't contribute to identifying sentiment and are really common, resulting in a lot of noise in our input. If we can filter these out, then our network should have an easier time learning.\n",
    "\n",
    "We also want to remove really rare words that show up in a only a few twits. Here you'll want to divide the count of each word by the number of messages. Then remove words that only appear in some small fraction of the messages."
   ]
  },
  {
   "cell_type": "code",
   "execution_count": 8,
   "metadata": {},
   "outputs": [
    {
     "name": "stdout",
     "output_type": "stream",
     "text": [
      "['the', 'to', 'is', 'for', 'on', 'of', 'and', 'in', 'this', 'it', 'at', 'will', 'up', 'are', 'you', 'that', 'be', 'short', 'what', 'buy']\n"
     ]
    },
    {
     "data": {
      "text/plain": [
       "4507"
      ]
     },
     "execution_count": 8,
     "metadata": {},
     "output_type": "execute_result"
    }
   ],
   "source": [
    "\"\"\"\n",
    "Set the following variables:\n",
    "    freqs\n",
    "    low_cutoff\n",
    "    high_cutoff\n",
    "    K_most_common\n",
    "\"\"\"\n",
    "\n",
    "# TODO Implement \n",
    "\n",
    "\n",
    "# Dictionart that contains the Frequency of words appearing in messages.\n",
    "# The key is the token and the value is the frequency of that word in the corpus.\n",
    "total_count = sum(bow.values())\n",
    "freqs = {word: bow[word]/total_count for word in bow}\n",
    "\n",
    "# Float that is the frequency cutoff. Drop words with a frequency that is lower or equal to this number.\n",
    "low_cutoff = 1e-5\n",
    "\n",
    "# Integer that is the cut off for most common words. Drop words that are the `high_cutoff` most common words.\n",
    "high_cutoff = 20\n",
    "\n",
    "# The k most common words in the corpus. Use `high_cutoff` as the k.\n",
    "K_most_common = [word[0] for word in bow.most_common(high_cutoff)] \n",
    "\n",
    "\n",
    "filtered_words = [word for word in freqs if (freqs[word] > low_cutoff and word not in K_most_common)]\n",
    "print(K_most_common)\n",
    "len(filtered_words) "
   ]
  },
  {
   "cell_type": "code",
   "execution_count": 9,
   "metadata": {},
   "outputs": [
    {
     "name": "stdout",
     "output_type": "stream",
     "text": [
      "['great', 'ill', 'wait', 'staanalystalert', 'jefferies', 'maintains', 'with', 'rating', 'hold', 'setting']\n"
     ]
    }
   ],
   "source": [
    "print(filtered_words[:10])"
   ]
  },
  {
   "cell_type": "markdown",
   "metadata": {},
   "source": [
    "### Updating Vocabulary by Removing Filtered Words\n",
    "Let's creat three variables that will help with our vocabulary."
   ]
  },
  {
   "cell_type": "code",
   "execution_count": 10,
   "metadata": {},
   "outputs": [],
   "source": [
    "\"\"\"\n",
    "Set the following variables:\n",
    "    vocab\n",
    "    id2vocab\n",
    "    filtered\n",
    "\"\"\"\n",
    "\n",
    "#TODO Implement\n",
    "#tokenized = tokenizes\n",
    "#filtered_sorted_count = [word for word in sorted(bow, key=bow.get, reverse=True) if word in filtered_words]\n",
    "#filtered_sorted_count = [word for word in enumerate(filtered_words,1)]\n",
    "\n",
    "filtered_sorted_count = [word for word in sorted(bow, key=bow.get, reverse=True) if word in filtered_words]\n",
    "#filtered_sorted_count = [word for word in enumerate(filtered_words,1)]\n",
    "\n",
    "# A dictionary for the `filtered_words`. The key is the word and value is an id that represents the word. \n",
    "vocab = {word: idx for idx, word in enumerate(filtered_sorted_count,1)}\n",
    "# Reverse of the `vocab` dictionary. The key is word id and value is the word. \n",
    "id2vocab = {idx :word for idx,word in enumerate(filtered_sorted_count,1)}\n",
    "\n",
    "# tokenized with the words not in `filtered_words` removed.\n",
    "#filtered = [[token for token in tokens if token in filtered_words] for tokens in tokenized]\n",
    "filtered = []\n",
    "for tokens in tokenized:\n",
    "    filtered.append([token for token in tokens if token in filtered_words])"
   ]
  },
  {
   "cell_type": "markdown",
   "metadata": {},
   "source": [
    "### Balancing the classes\n",
    "Let's do a few last pre-processing steps. If we look at how our twits are labeled, we'll find that 50% of them are neutral. This means that our network will be 50% accurate just by guessing 0 every single time. To help our network learn appropriately, we'll want to balance our classes.\n",
    "That is, make sure each of our different sentiment scores show up roughly as frequently in the data.\n",
    "\n",
    "What we can do here is go through each of our examples and randomly drop twits with neutral sentiment. What should be the probability we drop these twits if we want to get around 20% neutral twits starting at 50% neutral? We should also take this opportunity to remove messages with length 0."
   ]
  },
  {
   "cell_type": "code",
   "execution_count": 11,
   "metadata": {},
   "outputs": [],
   "source": [
    "#vocab = {word: idx for idx, word in enumerate(filtered_words)}\n",
    "# Reverse of the `vocab` dictionary. The key is word id and value is the word. \n",
    "#id2vocab = {idx :word for idx,word in enumerate(filtered_words)}\n",
    "\n",
    "balanced = {'messages': [], 'sentiments':[]}\n",
    "\n",
    "n_neutral = sum(1 for each in sentiments if each == 2)\n",
    "N_examples = len(sentiments)\n",
    "keep_prob = (N_examples - n_neutral)/4/n_neutral  # so on an average you have (N_examples - n_neutral)/4 (other 4 groups total no /4). So you need to keep these many for the newutrral group as well \n",
    "#print((N_examples - n_neutral)/n_neutral)\n",
    "#print(\"\" + str(N_examples) + \" \" +  str(n_neutral))\n",
    "for idx, sentiment in enumerate(sentiments):\n",
    "    message = filtered[idx]\n",
    "    if len(message) == 0:\n",
    "        # skip this message because it has length zero\n",
    "        continue\n",
    "    elif sentiment != 2 or random.random() < keep_prob:\n",
    "        balanced['messages'].append(message)\n",
    "        balanced['sentiments'].append(sentiment) "
   ]
  },
  {
   "cell_type": "markdown",
   "metadata": {},
   "source": [
    "If you did it correctly, you should see the following result "
   ]
  },
  {
   "cell_type": "code",
   "execution_count": 12,
   "metadata": {},
   "outputs": [
    {
     "data": {
      "text/plain": [
       "0.19852025428639933"
      ]
     },
     "execution_count": 12,
     "metadata": {},
     "output_type": "execute_result"
    }
   ],
   "source": [
    "n_neutral = sum(1 for each in balanced['sentiments'] if each == 2)\n",
    "N_examples = len(balanced['sentiments'])\n",
    "n_neutral/N_examples"
   ]
  },
  {
   "cell_type": "markdown",
   "metadata": {},
   "source": [
    "Finally let's convert our tokens into integer ids which we can pass to the network."
   ]
  },
  {
   "cell_type": "code",
   "execution_count": 13,
   "metadata": {},
   "outputs": [],
   "source": [
    "#print(filtered_sorted_count[1:10])\n",
    "\n",
    "token_ids = [[vocab[word] for word in message] for message in balanced['messages']]\n",
    "sentiments = balanced['sentiments']\n",
    "\n",
    "\n",
    "\n"
   ]
  },
  {
   "cell_type": "code",
   "execution_count": 14,
   "metadata": {},
   "outputs": [
    {
     "name": "stdout",
     "output_type": "stream",
     "text": [
      "['ill', 'wait', 'staanalystalert', 'jefferies', 'maintains', 'with', 'rating', 'hold', 'setting']\n",
      "[['great', 'ill', 'wait'], ['staanalystalert', 'jefferies', 'maintains', 'with', 'rating', 'hold', 'setting', 'target', 'price', 'usd', 'our', 'own', 'verdict']]\n",
      "1408\n"
     ]
    }
   ],
   "source": [
    "print(filtered_words[1:10])\n",
    "\n",
    "print(balanced['messages'][:2])\n",
    "print(vocab['jefferies'])\n"
   ]
  },
  {
   "cell_type": "markdown",
   "metadata": {},
   "source": [
    "## Neural Network\n",
    "Now we have our vocabulary which means we can transform our tokens into ids, which are then passed to our network. So, let's define the network now!\n",
    "\n",
    "Here is a nice diagram showing the network we'd like to build: \n",
    "\n",
    "#### Embed -> RNN -> Dense -> Softmax\n",
    "### Implement the text classifier\n",
    "Before we build text classifier, if you remember from the other network that you built in  \"Sentiment Analysis with an RNN\"  exercise  - which there, the network called \" SentimentRNN\", here we named it \"TextClassifer\" - consists of three main parts: 1) init function `__init__` 2) forward pass `forward`  3) hidden state `init_hidden`. \n",
    "\n",
    "This network is pretty similar to the network you built expect in the  `forward` pass, we use softmax instead of sigmoid. The reason we are not using sigmoid is that the output of NN is not a binary. In our network, sentiment scores have 5 possible outcomes. We are looking for an outcome with the highest probability thus softmax is a better choice."
   ]
  },
  {
   "cell_type": "code",
   "execution_count": 15,
   "metadata": {},
   "outputs": [],
   "source": [
    "class TextClassifier(nn.Module):\n",
    "    def __init__(self, vocab_size, embed_size, lstm_size, output_size, lstm_layers=1, dropout=0.1):\n",
    "        \"\"\"\n",
    "        Initialize the model by setting up the layers.\n",
    "        \n",
    "        Parameters\n",
    "        ----------\n",
    "            vocab_size : The vocabulary size.\n",
    "            embed_size : The embedding layer size.\n",
    "            lstm_size : The LSTM layer size.\n",
    "            output_size : The output size.\n",
    "            lstm_layers : The number of LSTM layers.\n",
    "            dropout : The dropout probability.\n",
    "        \"\"\"\n",
    "        \n",
    "        super().__init__()\n",
    "        self.vocab_size = vocab_size\n",
    "        self.embed_size = embed_size\n",
    "        self.lstm_size = lstm_size\n",
    "        self.output_size = output_size\n",
    "        self.lstm_layers = lstm_layers\n",
    "        self.dropout = dropout\n",
    "        \n",
    "        # TODO Implement\n",
    "\n",
    "        # Setup embedding layer\n",
    "        self.embedding = nn.Embedding(num_embeddings=vocab_size, embedding_dim=embed_size)\n",
    "        \n",
    "        # Setup additional layers\n",
    "        self.lstm  = nn.LSTM(input_size=embed_size, hidden_size=lstm_size, num_layers = lstm_layers, batch_first= False,\n",
    "                            dropout = dropout)\n",
    "        self.dropout = nn.Dropout(0.3)\n",
    "        self.fc = nn.Linear(in_features=lstm_size, out_features=output_size)\n",
    "        self.softmax = nn.LogSoftmax(dim=1)\n",
    "\n",
    "\n",
    "    def init_hidden(self, batch_size):\n",
    "        \"\"\" \n",
    "        Initializes hidden state\n",
    "        \n",
    "        Parameters\n",
    "        ----------\n",
    "            batch_size : The size of batches.\n",
    "        \n",
    "        Returns\n",
    "        -------\n",
    "            hidden_state\n",
    "            \n",
    "        \"\"\"\n",
    "        \n",
    "        # TODO Implement \n",
    "        \n",
    "        # Create two new tensors with sizes n_layers x batch_size x hidden_dim,\n",
    "        # initialized to zero, for hidden state and cell state of LSTM\n",
    "        weight = next(self.parameters()).data\n",
    "        if False:#torch.cuda.is_available():\n",
    "            hidden = (weight.new(self.lstm_layers, batch_size, self.lstm_size).zero_().cuda(),\n",
    "            weight.new(self.lstm_layers, batch_size, self.lstm_size).zero_().cuda())\n",
    "        else:\n",
    "             hidden = (weight.new(self.lstm_layers, batch_size, self.lstm_size).zero_(),\n",
    "             weight.new(self.lstm_layers, batch_size, self.lstm_size).zero_())\n",
    "        \n",
    "        #print(hidden)\n",
    "        return hidden\n",
    "\n",
    "\n",
    "    def forward(self, nn_input, hidden_state):\n",
    "        \"\"\"\n",
    "        Perform a forward pass of our model on nn_input.\n",
    "        \n",
    "        Parameters\n",
    "        ----------\n",
    "            nn_input : The batch of input to the NN.\n",
    "            hidden_state : The LSTM hidden state.\n",
    "\n",
    "        Returns\n",
    "        -------\n",
    "            logps: log softmax output\n",
    "            hidden_state: The new hidden state.\n",
    "\n",
    "        \"\"\"\n",
    "        batch_size = nn_input.size(0)\n",
    "        #print(nn_input)\n",
    "        embed = self.embedding(nn_input)\n",
    "        lstm_out, hidden_state = self.lstm(embed, hidden_state)\n",
    "        #lstm_out = lstm_out.contiguous().view(-1, self.lstm_size)\n",
    "        lstm_out = lstm_out[-1]\n",
    "        out = self.fc(lstm_out)\n",
    "        out = self.dropout(out)\n",
    "        \n",
    "        soft_max_out = self.softmax(out)\n",
    "        #soft_max_out = soft_max_out.view(batch_size,-1)\n",
    "        #soft_max_out = soft_max_out[:, -1]\n",
    "        \n",
    "        return soft_max_out, hidden_state"
   ]
  },
  {
   "cell_type": "markdown",
   "metadata": {},
   "source": [
    "### View Model"
   ]
  },
  {
   "cell_type": "code",
   "execution_count": 16,
   "metadata": {},
   "outputs": [
    {
     "name": "stdout",
     "output_type": "stream",
     "text": [
      "tensor([[-1.9348, -1.6140, -1.2923, -1.4381, -1.9348],\n",
      "        [-1.5819, -1.5454, -1.3291, -1.4505, -2.5006],\n",
      "        [-1.6842, -1.3563, -1.6842, -1.6842, -1.6842],\n",
      "        [-1.4249, -1.4598, -1.7911, -1.3029, -2.4230]])\n"
     ]
    }
   ],
   "source": [
    "model = TextClassifier(len(vocab), 10, 6, 5, dropout=0.1, lstm_layers=2)\n",
    "#print(model)\n",
    "model.embedding.weight.data.uniform_(-1, 1)\n",
    "input = torch.randint(0, 1000, (5, 4), dtype=torch.int64)\n",
    "#train_on_gpu=torch.cuda.is_available()\n",
    "\n",
    "#if(train_on_gpu):\n",
    "#    input= input.cuda()\n",
    "#    model.cuda()\n",
    "\n",
    "hidden = model.init_hidden(4)\n",
    "\n",
    "logps, _ = model.forward(input, hidden)\n",
    "print(logps)"
   ]
  },
  {
   "cell_type": "markdown",
   "metadata": {},
   "source": [
    "## Training\n",
    "### DataLoaders and Batching\n",
    "Now we should build a generator that we can use to loop through our data. It'll be more efficient if we can pass our sequences in as batches. Our input tensors should look like `(sequence_length, batch_size)`. So if our sequences are 40 tokens long and we pass in 25 sequences, then we'd have an input size of `(40, 25)`.\n",
    "\n",
    "If we set our sequence length to 40, what do we do with messages that are more or less than 40 tokens? For messages with fewer than 40 tokens, we will pad the empty spots with zeros. We should be sure to **left** pad so that the RNN starts from nothing before going through the data. If the message has 20 tokens, then the first 20 spots of our 40 long sequence will be 0. If a message has more than 40 tokens, we'll just keep the first 40 tokens."
   ]
  },
  {
   "cell_type": "code",
   "execution_count": 17,
   "metadata": {},
   "outputs": [],
   "source": [
    "def dataloader(messages, labels, sequence_length=30, batch_size=32, shuffle=False):\n",
    "    \"\"\" \n",
    "    Build a dataloader.\n",
    "    \"\"\"\n",
    "    if shuffle:\n",
    "        indices = list(range(len(messages)))\n",
    "        random.shuffle(indices)\n",
    "        messages = [messages[idx] for idx in indices]\n",
    "        labels = [labels[idx] for idx in indices]\n",
    "\n",
    "    total_sequences = len(messages)\n",
    "\n",
    "    for ii in range(0, total_sequences, batch_size):\n",
    "        batch_messages = messages[ii: ii+batch_size]\n",
    "        \n",
    "        # First initialize a tensor of all zeros\n",
    "        batch = torch.zeros((sequence_length, len(batch_messages)), dtype=torch.int64)\n",
    "        for batch_num, tokens in enumerate(batch_messages):\n",
    "            token_tensor = torch.tensor(tokens)\n",
    "            # Left pad!\n",
    "            start_idx = max(sequence_length - len(token_tensor), 0)\n",
    "            batch[start_idx:, batch_num] = token_tensor[:sequence_length]\n",
    "        \n",
    "        label_tensor = torch.tensor(labels[ii: ii+len(batch_messages)])\n",
    "        \n",
    "        yield batch, label_tensor"
   ]
  },
  {
   "cell_type": "markdown",
   "metadata": {},
   "source": [
    "### Training and  Validation\n",
    "With our data in nice shape, we'll split it into training and validation sets."
   ]
  },
  {
   "cell_type": "code",
   "execution_count": 18,
   "metadata": {},
   "outputs": [
    {
     "name": "stdout",
     "output_type": "stream",
     "text": [
      "824141\n",
      "[[534, 1408, 1565, 6, 174, 108, 555, 155, 52, 689, 205, 269, 574], [1181, 81, 190, 135, 122, 434, 135, 91, 1371, 122, 378, 1138], [110, 137, 1449, 1227, 353, 15, 361, 214], [60, 23, 308, 313, 17, 597], [488, 41, 10, 194, 7, 820, 52, 63, 591, 68], [186, 168, 10, 111, 34, 44, 136], [137, 156, 42, 58, 847, 13, 46, 125, 152, 44, 13, 2020, 116, 4120, 2631], [148], [311, 482, 98], [52, 3617, 918, 709, 103, 119, 835, 390, 3274, 292], [272, 35, 319, 235, 148, 43, 1710, 277, 109, 457], [345, 1058, 368, 781], [78, 23, 308, 313, 17, 597], [1242, 2820, 35, 1029, 3959, 4013, 15, 233, 981, 9, 24, 542, 150, 164], [534, 4372, 1331, 388, 52, 155, 6, 174, 555, 155, 52, 689, 205, 269, 574], [91, 129, 476, 484, 32, 514, 319, 171, 6, 368, 125, 76, 81, 56, 37, 255], [39, 368, 311, 37, 2127, 987, 39, 46, 727, 1469, 1892], [87, 2, 177, 291, 2208, 20], [4], [73, 204, 33, 42, 257, 1366], [368, 311, 154, 189, 72, 307, 260], [339, 183, 9], [13, 150, 2556, 33, 42, 38, 102, 1645, 28, 52], [60, 23, 308, 313, 17, 597], [345, 1124, 247, 9, 454, 247, 247, 247, 9, 454], [70, 19, 1026, 28, 562, 82, 858, 19, 305, 15], [43, 357, 19, 9, 427, 19, 348, 1160], [527, 86, 379, 111, 484, 50, 89, 158, 82, 16, 251, 23], [762, 2056, 1993, 1266, 472, 863, 1591, 218, 2627, 12, 59, 1347, 804, 462, 1293], [79, 43, 7, 213, 98], [39, 189, 331, 637, 72, 307, 260], [659, 287, 87, 9, 59, 2], [1076, 2024, 386, 1914, 2565, 455, 3073], [2, 2, 2], [710, 211, 1161, 4, 4273, 1195, 1742, 885, 302, 55], [41, 443, 186, 56, 66, 41, 1162, 715, 136, 1162, 1330, 987, 36, 870, 1919, 1595], [6, 616, 491, 495, 40, 2843, 36, 303], [699, 1986, 1144, 4373, 275, 649], [1961, 3768, 489, 178, 3417, 190, 172, 245, 109, 3064, 158, 122, 92, 354, 17, 17, 270, 59], [2471, 710, 775, 2763, 2425, 103, 418], [232, 2, 269], [1982, 2167, 1099, 1229, 348, 1229, 348, 1946, 1130, 1454], [228, 53, 1475], [142, 2384, 1854, 1986, 64, 1464, 718, 2], [99, 2179, 311, 288, 3135, 491, 54, 922, 809, 303, 495], [142, 2384, 1854, 2818, 64, 1464, 718, 637], [130], [423, 151, 33, 13, 268, 587], [1597, 1438, 369, 806, 336, 3253, 7, 806, 1392], [168, 66, 37, 973, 811, 752, 151, 252, 143, 221, 196, 70], [142, 2384, 1854, 1986, 64, 1464, 718, 2], [904, 81, 19, 1577, 172, 1492, 20, 137, 10, 173, 152, 187, 4045, 23, 690, 76], [633, 88, 1615, 8, 344, 118], [1448, 2671, 15, 48, 28, 33, 64, 262, 2895, 28, 1604, 257], [79, 43, 7, 213, 98], [231, 575], [213, 311, 482, 98], [116, 971, 14, 2197, 13, 7, 63, 20, 878, 271, 34, 268, 33, 1225, 50, 164], [534, 192, 699, 3702, 341, 6, 174, 108, 205, 269, 574], [64, 143, 292, 363, 266, 134, 41], [44, 20, 659], [93, 117, 319], [28, 3248, 13, 822, 871, 268, 33, 42, 822, 110, 2781, 11, 151, 252], [1384], [357, 43, 19], [134, 23, 28, 316, 716, 6, 2], [311, 482, 98], [60, 421, 198, 1238, 176, 75, 214, 63, 591, 1559, 5, 41, 615, 68], [52, 24, 311, 288, 922, 809, 303, 495], [1182, 82, 112, 119, 114, 304, 2, 779, 20, 121, 1064, 123, 82, 121, 955, 3628], [5, 402, 1755, 11, 42, 73, 76, 48, 446, 163, 17, 31, 28, 716, 529, 11, 2960], [119, 43, 19, 1060, 230, 6, 181, 8, 43, 19, 53, 43, 19], [2527], [66, 1928, 163, 76, 2257, 2, 284, 28, 3319, 316, 39, 163, 239, 2580, 232, 1678, 46, 529], [213, 311, 482, 98], [221, 279, 1031, 508, 1, 36], [534, 2477, 316, 1188, 1200, 6, 174, 967, 205, 269, 574], [534, 3201, 699, 391, 155, 6, 174, 555, 155, 52, 689, 205, 269, 574], [1361, 474, 713, 3469, 834, 707, 3261, 1602, 1021, 48], [534, 1493, 1929, 516, 6, 174, 599, 555, 155, 52, 689, 205, 269, 574], [308, 545, 879, 302, 92, 1585, 1649, 381, 189, 72], [36, 1725, 2704, 418, 98], [930, 63, 59, 926, 775, 663, 2444, 1498, 879, 1058, 55, 253, 24], [20, 319, 223], [719, 660, 164, 304, 33, 42], [534, 1408, 516, 6, 174, 108, 555, 155, 52, 689, 205, 269, 574], [534, 1929, 516, 6, 174, 599, 205, 269, 574], [1080], [77, 2516], [134, 1272, 884, 199, 189, 72, 12, 276, 2], [55, 278, 3103, 278, 3103, 4441, 278], [497, 1814, 1643, 46, 2, 40, 647, 2949, 50, 365], [79, 43, 7, 213, 98], [1609], [7, 729, 76, 19], [676, 135, 86, 102, 2, 11, 1144, 845, 567, 2478, 35, 88], [33, 42], [79, 43, 7, 213, 98], [13, 358, 34, 370, 32, 123, 35, 99, 70, 313, 278]]\n",
      "[[472, 60, 640, 386, 270, 48, 735, 2935, 361, 1792, 363, 159], [210, 562, 223, 28, 64, 163, 941, 14, 728, 1339, 335, 134, 17, 546, 9, 42]]\n"
     ]
    }
   ],
   "source": [
    "\"\"\"\n",
    "Split data into training and validation datasets. Use an appropriate split size.\n",
    "The features are the `token_ids` and the labels are the `sentiments`.\n",
    "\"\"\"   \n",
    "\n",
    "# TODO Implement \n",
    "cut_off1 = int(0.8 * len(token_ids))\n",
    "cut_off2 = int(0.8 * len(token_ids))\n",
    "print(cut_off1)\n",
    "print(token_ids[1:100])\n",
    "train_features = token_ids[:cut_off1]\n",
    "valid_features = token_ids[cut_off2:]\n",
    "train_labels = sentiments[:cut_off1]\n",
    "valid_labels = sentiments[cut_off2:]\n",
    "print(valid_features[:2])"
   ]
  },
  {
   "cell_type": "code",
   "execution_count": 19,
   "metadata": {},
   "outputs": [
    {
     "name": "stdout",
     "output_type": "stream",
     "text": [
      "tensor([[-1.5682, -1.5798, -1.7223, -1.4308, -1.7850],\n",
      "        [-1.7760, -1.6326, -1.5937, -1.5958, -1.4725],\n",
      "        [-1.6653, -1.8421, -1.4886, -1.7343, -1.3857],\n",
      "        [-1.7661, -1.4544, -1.7222, -1.4790, -1.6665],\n",
      "        [-1.6200, -1.7956, -1.5939, -1.5652, -1.4965],\n",
      "        [-1.6635, -1.4103, -1.6544, -1.6232, -1.7260],\n",
      "        [-1.5292, -1.5949, -1.5949, -1.7878, -1.5602],\n",
      "        [-1.9498, -1.5570, -1.5570, -1.5570, -1.4899],\n",
      "        [-1.8756, -1.6175, -1.6829, -1.8061, -1.2100],\n",
      "        [-1.8311, -1.4494, -1.6905, -1.4998, -1.6224],\n",
      "        [-1.6364, -1.6364, -1.6364, -1.8037, -1.3813],\n",
      "        [-1.8962, -1.3578, -1.9626, -1.6201, -1.3695],\n",
      "        [-1.7905, -1.6039, -1.5304, -1.7565, -1.4151],\n",
      "        [-1.6244, -1.7921, -1.5723, -1.5826, -1.4991],\n",
      "        [-1.5682, -1.5682, -1.5682, -1.6726, -1.6767],\n",
      "        [-1.7317, -1.5880, -1.5499, -1.6391, -1.5499],\n",
      "        [-1.7799, -1.5567, -1.5567, -1.6151, -1.5567],\n",
      "        [-1.7942, -1.5307, -1.4598, -1.7598, -1.5466],\n",
      "        [-1.6584, -1.5398, -1.7563, -1.5398, -1.5701],\n",
      "        [-1.6372, -1.3454, -1.6372, -1.9701, -1.5555],\n",
      "        [-1.5866, -1.6176, -1.8514, -1.7196, -1.3438],\n",
      "        [-1.7668, -1.3277, -1.8389, -1.7082, -1.4968],\n",
      "        [-1.5420, -1.5587, -1.6632, -1.7459, -1.5530],\n",
      "        [-1.6792, -1.6091, -1.5110, -1.7011, -1.5595],\n",
      "        [-1.5966, -1.8025, -1.5966, -1.5722, -1.5035],\n",
      "        [-1.6710, -1.5063, -1.7385, -1.6710, -1.4856],\n",
      "        [-1.6054, -1.5742, -1.5976, -1.7450, -1.5371],\n",
      "        [-1.5582, -1.4431, -1.7181, -1.5582, -1.8117],\n",
      "        [-1.6064, -1.4740, -1.8557, -1.5837, -1.5662],\n",
      "        [-1.8178, -1.4547, -1.6775, -1.7014, -1.4487],\n",
      "        [-1.8774, -1.5529, -1.5054, -1.5054, -1.6528],\n",
      "        [-1.7270, -1.2656, -1.8534, -1.6518, -1.6518],\n",
      "        [-1.8556, -1.4431, -1.5999, -1.5999, -1.5916],\n",
      "        [-1.5659, -1.5819, -1.5615, -1.7966, -1.5615],\n",
      "        [-1.8688, -1.4230, -1.6798, -1.6071, -1.5240],\n",
      "        [-1.6782, -1.5795, -1.6129, -1.7381, -1.4608],\n",
      "        [-1.6802, -1.5915, -1.5849, -1.5494, -1.6466],\n",
      "        [-1.6315, -1.4683, -1.7158, -1.6571, -1.5920],\n",
      "        [-1.7133, -1.4732, -1.6493, -1.5541, -1.6768],\n",
      "        [-1.9975, -1.4227, -1.3481, -1.6935, -1.7168],\n",
      "        [-1.5750, -1.4942, -1.6079, -1.5750, -1.8247],\n",
      "        [-1.5928, -1.4066, -1.7624, -1.5928, -1.7334],\n",
      "        [-1.6915, -1.5599, -1.6808, -1.6204, -1.5071],\n",
      "        [-1.7893, -1.4433, -1.4488, -1.8187, -1.6109],\n",
      "        [-1.7617, -1.5263, -1.5914, -1.5914, -1.5914],\n",
      "        [-1.8581, -1.4726, -1.6102, -1.5371, -1.6102],\n",
      "        [-1.6423, -1.6198, -1.7198, -1.5071, -1.5708],\n",
      "        [-1.7759, -1.5717, -1.7766, -1.8096, -1.2377],\n",
      "        [-1.7364, -1.4719, -1.6637, -1.6637, -1.5349],\n",
      "        [-1.6561, -1.4119, -1.6945, -1.6561, -1.6561],\n",
      "        [-1.8321, -1.4225, -1.6517, -1.5564, -1.6286],\n",
      "        [-1.7625, -1.5271, -1.5254, -1.7173, -1.5412],\n",
      "        [-1.6232, -1.3927, -1.6228, -1.9336, -1.5495],\n",
      "        [-1.6388, -1.5057, -1.5883, -1.6652, -1.6580],\n",
      "        [-1.5774, -1.6625, -1.6564, -1.5774, -1.5774],\n",
      "        [-1.8986, -1.5266, -1.6174, -1.5266, -1.5266],\n",
      "        [-1.7238, -1.5224, -1.6199, -1.7103, -1.4931],\n",
      "        [-1.5797, -1.5360, -1.7333, -1.6298, -1.5797],\n",
      "        [-1.6787, -1.4955, -1.7072, -1.6309, -1.5506],\n",
      "        [-1.7998, -1.5851, -1.6231, -1.5965, -1.4704],\n",
      "        [-1.6245, -1.3931, -1.7810, -1.6648, -1.6245],\n",
      "        [-1.4815, -1.5721, -1.8535, -1.5886, -1.5886],\n",
      "        [-1.8059, -1.3722, -1.7132, -1.6048, -1.6048],\n",
      "        [-1.6272, -1.6272, -1.6693, -1.5237, -1.6057]])\n"
     ]
    }
   ],
   "source": [
    "text_batch, labels = next(iter(dataloader(train_features, train_labels, sequence_length=20, batch_size=64)))\n",
    "model = TextClassifier(len(vocab)+1, 200, 128, 5, dropout=0.)\n",
    "hidden = model.init_hidden(64)\n",
    "\n",
    "#if(train_on_gpu):\n",
    "#    text_batch= text_batch.cuda()\n",
    "#    model.cuda()\n",
    "\n",
    "logps, hidden = model.forward(text_batch, hidden)\n",
    "print(logps)"
   ]
  },
  {
   "cell_type": "markdown",
   "metadata": {},
   "source": [
    "### Training\n",
    "It's time to train the neural network!"
   ]
  },
  {
   "cell_type": "code",
   "execution_count": 20,
   "metadata": {},
   "outputs": [
    {
     "data": {
      "text/plain": [
       "TextClassifier(\n",
       "  (embedding): Embedding(4508, 1024)\n",
       "  (lstm): LSTM(1024, 512, num_layers=2, dropout=0.2)\n",
       "  (dropout): Dropout(p=0.3)\n",
       "  (fc): Linear(in_features=512, out_features=5, bias=True)\n",
       "  (softmax): LogSoftmax()\n",
       ")"
      ]
     },
     "execution_count": 20,
     "metadata": {},
     "output_type": "execute_result"
    }
   ],
   "source": [
    "device = torch.device(\"cuda\" if torch.cuda.is_available() else \"cpu\")\n",
    "#train_on_gpu = False\n",
    "model = TextClassifier(len(vocab)+1, 1024, 512, 5, lstm_layers=2, dropout=0.2)\n",
    "model.embedding.weight.data.uniform_(-1, 1)\n",
    "model.to(device)"
   ]
  },
  {
   "cell_type": "code",
   "execution_count": 21,
   "metadata": {},
   "outputs": [
    {
     "name": "stdout",
     "output_type": "stream",
     "text": [
      "Starting epoch 1\n",
      "Epoch: 1/3  Step: 100 Loss: 1.1562 Validation loss: 1.1237 Accuracy : 0.5412\n",
      "Epoch: 1/3  Step: 200 Loss: 1.0650 Validation loss: 1.0289 Accuracy : 0.5862\n",
      "Epoch: 1/3  Step: 300 Loss: 1.0836 Validation loss: 0.9936 Accuracy : 0.6094\n",
      "Epoch: 1/3  Step: 400 Loss: 1.0232 Validation loss: 0.9591 Accuracy : 0.6268\n",
      "Epoch: 1/3  Step: 500 Loss: 1.0906 Validation loss: 0.9773 Accuracy : 0.6228\n",
      "Epoch: 1/3  Step: 600 Loss: 1.0316 Validation loss: 0.9322 Accuracy : 0.6347\n",
      "Epoch: 1/3  Step: 700 Loss: 1.0703 Validation loss: 0.9113 Accuracy : 0.6500\n",
      "Epoch: 1/3  Step: 800 Loss: 1.0726 Validation loss: 0.9072 Accuracy : 0.6473\n",
      "Epoch: 1/3  Step: 900 Loss: 1.0310 Validation loss: 0.8974 Accuracy : 0.6580\n",
      "Epoch: 1/3  Step: 1000 Loss: 0.9835 Validation loss: 0.8940 Accuracy : 0.6560\n",
      "Epoch: 1/3  Step: 1100 Loss: 0.9920 Validation loss: 0.8909 Accuracy : 0.6574\n",
      "Epoch: 1/3  Step: 1200 Loss: 0.9624 Validation loss: 0.8813 Accuracy : 0.6593\n",
      "Epoch: 1/3  Step: 1300 Loss: 0.9848 Validation loss: 0.8751 Accuracy : 0.6633\n",
      "Epoch: 1/3  Step: 1400 Loss: 0.9426 Validation loss: 0.8728 Accuracy : 0.6675\n",
      "Epoch: 1/3  Step: 1500 Loss: 0.9245 Validation loss: 0.8755 Accuracy : 0.6642\n",
      "Epoch: 1/3  Step: 1600 Loss: 1.0038 Validation loss: 0.8739 Accuracy : 0.6631\n",
      "Starting epoch 2\n",
      "Epoch: 2/3  Step: 100 Loss: 0.9293 Validation loss: 0.8680 Accuracy : 0.6624\n",
      "Epoch: 2/3  Step: 200 Loss: 0.8886 Validation loss: 0.8624 Accuracy : 0.6660\n",
      "Epoch: 2/3  Step: 300 Loss: 0.9393 Validation loss: 0.8623 Accuracy : 0.6669\n",
      "Epoch: 2/3  Step: 400 Loss: 0.8763 Validation loss: 0.8557 Accuracy : 0.6700\n",
      "Epoch: 2/3  Step: 500 Loss: 0.9305 Validation loss: 0.8613 Accuracy : 0.6636\n",
      "Epoch: 2/3  Step: 600 Loss: 0.8951 Validation loss: 0.8585 Accuracy : 0.6666\n",
      "Epoch: 2/3  Step: 700 Loss: 0.9674 Validation loss: 0.8592 Accuracy : 0.6670\n",
      "Epoch: 2/3  Step: 800 Loss: 0.9310 Validation loss: 0.8539 Accuracy : 0.6671\n",
      "Epoch: 2/3  Step: 900 Loss: 0.9924 Validation loss: 0.8535 Accuracy : 0.6695\n",
      "Epoch: 2/3  Step: 1000 Loss: 0.9970 Validation loss: 0.8588 Accuracy : 0.6702\n",
      "Epoch: 2/3  Step: 1100 Loss: 0.9927 Validation loss: 0.8527 Accuracy : 0.6709\n",
      "Epoch: 2/3  Step: 1200 Loss: 0.9039 Validation loss: 0.8524 Accuracy : 0.6704\n",
      "Epoch: 2/3  Step: 1300 Loss: 0.9242 Validation loss: 0.8590 Accuracy : 0.6696\n",
      "Epoch: 2/3  Step: 1400 Loss: 0.9231 Validation loss: 0.8540 Accuracy : 0.6708\n",
      "Epoch: 2/3  Step: 1500 Loss: 0.9321 Validation loss: 0.8487 Accuracy : 0.6687\n",
      "Epoch: 2/3  Step: 1600 Loss: 0.9300 Validation loss: 0.8406 Accuracy : 0.6755\n",
      "Starting epoch 3\n",
      "Epoch: 3/3  Step: 100 Loss: 0.8951 Validation loss: 0.8493 Accuracy : 0.6676\n",
      "Epoch: 3/3  Step: 200 Loss: 0.9104 Validation loss: 0.8487 Accuracy : 0.6685\n",
      "Epoch: 3/3  Step: 300 Loss: 0.8855 Validation loss: 0.8387 Accuracy : 0.6750\n",
      "Epoch: 3/3  Step: 400 Loss: 0.8144 Validation loss: 0.8387 Accuracy : 0.6753\n",
      "Epoch: 3/3  Step: 500 Loss: 0.9061 Validation loss: 0.8390 Accuracy : 0.6763\n",
      "Epoch: 3/3  Step: 600 Loss: 0.8718 Validation loss: 0.8564 Accuracy : 0.6683\n",
      "Epoch: 3/3  Step: 700 Loss: 0.9102 Validation loss: 0.8402 Accuracy : 0.6765\n",
      "Epoch: 3/3  Step: 800 Loss: 0.9514 Validation loss: 0.8400 Accuracy : 0.6758\n",
      "Epoch: 3/3  Step: 900 Loss: 1.0147 Validation loss: 0.8411 Accuracy : 0.6755\n",
      "Epoch: 3/3  Step: 1000 Loss: 0.8905 Validation loss: 0.8434 Accuracy : 0.6716\n",
      "Epoch: 3/3  Step: 1100 Loss: 0.9505 Validation loss: 0.8404 Accuracy : 0.6768\n",
      "Epoch: 3/3  Step: 1200 Loss: 0.8898 Validation loss: 0.8432 Accuracy : 0.6760\n",
      "Epoch: 3/3  Step: 1300 Loss: 0.8920 Validation loss: 0.8340 Accuracy : 0.6800\n",
      "Epoch: 3/3  Step: 1400 Loss: 0.8829 Validation loss: 0.8341 Accuracy : 0.6784\n",
      "Epoch: 3/3  Step: 1500 Loss: 0.9114 Validation loss: 0.8316 Accuracy : 0.6789\n",
      "Epoch: 3/3  Step: 1600 Loss: 0.8407 Validation loss: 0.8378 Accuracy : 0.6789\n"
     ]
    }
   ],
   "source": [
    "\"\"\"\n",
    "Train your model with dropout. Make sure to clip your gradients.\n",
    "Print the training loss, validation loss, and validation accuracy for every 100 steps.\n",
    "\"\"\"\n",
    "\n",
    "epochs = 3\n",
    "batch_size = 512\n",
    "learning_rate = 1e-3\n",
    "\n",
    "print_every = 100\n",
    "criterion = nn.NLLLoss()\n",
    "optimizer = optim.Adam(model.parameters(), lr=learning_rate)\n",
    "model.train()\n",
    "sequence_length = 40\n",
    "for epoch in range(epochs):\n",
    "    print('Starting epoch {}'.format(epoch + 1))\n",
    "    \n",
    "    steps = 0\n",
    "    hidden = model.init_hidden(batch_size)\n",
    "    for text_batch, labels in dataloader(\n",
    "            train_features, train_labels, batch_size=batch_size, sequence_length=sequence_length, shuffle=True):\n",
    "        #print(text_batch.size())\n",
    "        #print(labels.size())\n",
    "\n",
    "        if text_batch.size() != torch.Size([sequence_length, batch_size]):\n",
    "            continue\n",
    "        steps += 1\n",
    "        #print(steps)\n",
    "\n",
    "        hidden = tuple([h.data for h in hidden])\n",
    "        for each in hidden:\n",
    "            each.to(device)\n",
    "        \n",
    "        # Set Device\n",
    "        text_batch, labels = text_batch.to(device), labels.to(device)\n",
    "\n",
    "        # TODO Implement: Train Model\n",
    "        model.zero_grad()\n",
    "        logps, hidden = model.forward(text_batch, hidden)\n",
    "        loss = criterion(logps.squeeze(), labels)\n",
    "        loss.backward()\n",
    "        nn.utils.clip_grad_norm_(model.parameters(), 5)\n",
    "        optimizer.step()\n",
    "        \n",
    "        if steps % print_every == 0:\n",
    "            #print(\"Evaluating\")\n",
    "            model.eval()\n",
    "            validation_losses = []\n",
    "            validation_accuracy = []\n",
    "            val_h = model.init_hidden(batch_size)\n",
    "            # TODO Implement: Print metrics\n",
    "            for val_text_batch, val_labels in dataloader(valid_features, valid_labels, batch_size=batch_size, \n",
    "                                                 sequence_length=sequence_length, shuffle=True):\n",
    "                if val_text_batch.size() != torch.Size([sequence_length, batch_size]):\n",
    "                    continue\n",
    "                val_h = tuple([h.data for h in val_h])\n",
    "                # Set Device\n",
    "                for each in val_h:\n",
    "                    each.to(device)\n",
    "\n",
    "                val_text_batch, val_labels = val_text_batch.to(device), val_labels.to(device)\n",
    "\n",
    "                val_logps, val_h = model.forward(val_text_batch, val_h)\n",
    "                val_loss = criterion(val_logps.squeeze(), val_labels)\n",
    "                validation_losses.append(val_loss.item())\n",
    "                \n",
    "                validation_ps = torch.exp(val_logps)\n",
    "                top_p, top_class = validation_ps.topk(1, dim=1)\n",
    "                equals = top_class == val_labels.view(*top_class.shape)\n",
    "                validation_accuracy.append(torch.mean(equals.type(torch.FloatTensor)).item())\n",
    "                #print(validation_accuracy)\n",
    "                \n",
    "            model.train()\n",
    "            curr_val_set_accuracy = sum(validation_accuracy)/len(validation_accuracy)\n",
    "            print(\"Epoch: {}/{}\".format(epoch+1, epochs),\n",
    "                  \" Step: {}\".format(steps),\n",
    "                  \"Loss: {:.4f}\".format(loss.item()),\"Validation loss: {:.4f}\".format(sum(validation_losses)/len(validation_losses)),\n",
    "                  \"Accuracy : {:.4f}\".format(curr_val_set_accuracy)\n",
    "                 )\n",
    "            "
   ]
  },
  {
   "cell_type": "markdown",
   "metadata": {},
   "source": [
    "## Making Predictions\n",
    "### Prediction \n",
    "Okay, now that you have a trained model, try it on some new twits and see if it works appropriately. Remember that for any new text, you'll need to preprocess it first before passing it to the network. Implement the `predict` function to generate the prediction vector from a message."
   ]
  },
  {
   "cell_type": "code",
   "execution_count": 22,
   "metadata": {},
   "outputs": [],
   "source": [
    "def predict(text, model, vocab):\n",
    "    \"\"\" \n",
    "    Make a prediction on a single sentence.\n",
    "\n",
    "    Parameters\n",
    "    ----------\n",
    "        text : The string to make a prediction on.\n",
    "        model : The model to use for making the prediction.\n",
    "        vocab : Dictionary for word to word ids. The key is the word and the value is the word id.\n",
    "\n",
    "    Returns\n",
    "    -------\n",
    "        pred : Prediction vector\n",
    "    \"\"\"    \n",
    "    \n",
    "    # TODO Implement\n",
    "    \n",
    "    tokens = preprocess(text)\n",
    "    \n",
    "    # Filter non-vocab words\n",
    "    tokens = [word for word in tokens if word in filtered_words]\n",
    "    # Convert words to ids\n",
    "    tokens = [vocab[word] for word in tokens]\n",
    "        \n",
    "    # Adding a batch dimension\n",
    "    text_input = torch.tensor(tokens).unsqueeze(1)\n",
    "    # Get the NN output\n",
    "    hidden = model.init_hidden(text_input.size(1))\n",
    "    logps, _ = model.forward(text_input, hidden)\n",
    "    # Take the exponent of the NN output to get a range of 0 to 1 for each label.\n",
    "    pred = torch.exp(logps)\n",
    "    \n",
    "    return pred"
   ]
  },
  {
   "cell_type": "code",
   "execution_count": 23,
   "metadata": {},
   "outputs": [
    {
     "data": {
      "text/plain": [
       "tensor([[ 0.0038,  0.0513,  0.0233,  0.2895,  0.6321]])"
      ]
     },
     "execution_count": 23,
     "metadata": {},
     "output_type": "execute_result"
    }
   ],
   "source": [
    "text = \"Google is working on self driving cars, I'm bullish on $goog\"\n",
    "model.eval()\n",
    "model.to(\"cpu\")\n",
    "predict(text, model, vocab)"
   ]
  },
  {
   "cell_type": "markdown",
   "metadata": {},
   "source": [
    "### Questions: What is the prediction of the model? What is the uncertainty of the prediction?\n",
    "** TODO: Answer Question**\n",
    "Highly positive sentiment most probably because of the word bullish."
   ]
  },
  {
   "cell_type": "markdown",
   "metadata": {},
   "source": [
    "Now we have a trained model and we can make predictions. We can use this model to track the sentiments of various stocks by predicting the sentiments of twits as they are coming in. Now we have a stream of twits. For each of those twits, pull out the stocks mentioned in them and keep track of the sentiments. Remember that in the twits, ticker symbols are encoded with a dollar sign as the first character, all caps, and 2-4 letters, like $AAPL. Ideally, you'd want to track the sentiments of the stocks in your universe and use this as a signal in your larger model(s).\n",
    "\n",
    "## Testing\n",
    "### Load the Data "
   ]
  },
  {
   "cell_type": "code",
   "execution_count": 24,
   "metadata": {},
   "outputs": [],
   "source": [
    "with open(os.path.join('..', '..', 'data', 'project_6_stocktwits', 'test_twits.json'), 'r') as f:\n",
    "    test_data = json.load(f)"
   ]
  },
  {
   "cell_type": "markdown",
   "metadata": {},
   "source": [
    "### Twit Stream"
   ]
  },
  {
   "cell_type": "code",
   "execution_count": 25,
   "metadata": {},
   "outputs": [
    {
     "data": {
      "text/plain": [
       "{'message_body': '$JWN has moved -1.69% on 10-31. Check out the movement and peers at  https://dividendbot.com?s=JWN',\n",
       " 'timestamp': '2018-11-01T00:00:05Z'}"
      ]
     },
     "execution_count": 25,
     "metadata": {},
     "output_type": "execute_result"
    }
   ],
   "source": [
    "def twit_stream():\n",
    "    for twit in test_data['data']:\n",
    "        yield twit\n",
    "\n",
    "next(twit_stream())"
   ]
  },
  {
   "cell_type": "markdown",
   "metadata": {},
   "source": [
    "Using the `prediction` function, let's apply it to a stream of twits."
   ]
  },
  {
   "cell_type": "code",
   "execution_count": 26,
   "metadata": {},
   "outputs": [],
   "source": [
    "def score_twits(stream, model, vocab, universe):\n",
    "    \"\"\" \n",
    "    Given a stream of twits and a universe of tickers, return sentiment scores for tickers in the universe.\n",
    "    \"\"\"\n",
    "    for twit in stream:\n",
    "\n",
    "        # Get the message text\n",
    "        text = twit['message_body']\n",
    "        symbols = re.findall('\\$[A-Z]{2,4}', text)\n",
    "        score = predict(text, model, vocab)\n",
    "\n",
    "        for symbol in symbols:\n",
    "            if symbol in universe:\n",
    "                yield {'symbol': symbol, 'score': score, 'timestamp': twit['timestamp']}"
   ]
  },
  {
   "cell_type": "code",
   "execution_count": 27,
   "metadata": {},
   "outputs": [
    {
     "data": {
      "text/plain": [
       "{'symbol': '$AAPL',\n",
       " 'score': tensor([[ 0.2057,  0.0915,  0.1163,  0.2012,  0.3852]]),\n",
       " 'timestamp': '2018-11-01T00:00:18Z'}"
      ]
     },
     "execution_count": 27,
     "metadata": {},
     "output_type": "execute_result"
    }
   ],
   "source": [
    "universe = {'$BBRY', '$AAPL', '$AMZN', '$BABA', '$YHOO', '$LQMT', '$FB', '$GOOG', '$BBBY', '$JNUG', '$SBUX', '$MU'}\n",
    "score_stream = score_twits(twit_stream(), model, vocab, universe)\n",
    "\n",
    "next(score_stream)"
   ]
  },
  {
   "cell_type": "markdown",
   "metadata": {},
   "source": [
    "That's it. You have successfully built a model for sentiment analysis! "
   ]
  },
  {
   "cell_type": "markdown",
   "metadata": {},
   "source": [
    "## Submission\n",
    "Now that you're done with the project, it's time to submit it. Click the submit button in the bottom right. One of our reviewers will give you feedback on your project with a pass or not passed grade. You can continue to the next section while you wait for feedback."
   ]
  }
 ],
 "metadata": {
  "kernelspec": {
   "display_name": "Python 3",
   "language": "python",
   "name": "python3"
  },
  "language_info": {
   "codemirror_mode": {
    "name": "ipython",
    "version": 3
   },
   "file_extension": ".py",
   "mimetype": "text/x-python",
   "name": "python",
   "nbconvert_exporter": "python",
   "pygments_lexer": "ipython3",
   "version": "3.6.3"
  }
 },
 "nbformat": 4,
 "nbformat_minor": 2
}
